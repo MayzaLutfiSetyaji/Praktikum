{
  "nbformat": 4,
  "nbformat_minor": 0,
  "metadata": {
    "colab": {
      "provenance": [],
      "authorship_tag": "ABX9TyPDni4n8vUjZbI7w2/IxEAe",
      "include_colab_link": true
    },
    "kernelspec": {
      "name": "python3",
      "display_name": "Python 3"
    },
    "language_info": {
      "name": "python"
    }
  },
  "cells": [
    {
      "cell_type": "markdown",
      "metadata": {
        "id": "view-in-github",
        "colab_type": "text"
      },
      "source": [
        "<a href=\"https://colab.research.google.com/github/MayzaLutfiSetyaji/Praktikum/blob/master/Latihan_Strukdat_4.ipynb\" target=\"_parent\"><img src=\"https://colab.research.google.com/assets/colab-badge.svg\" alt=\"Open In Colab\"/></a>"
      ]
    },
    {
      "cell_type": "code",
      "execution_count": null,
      "metadata": {
        "id": "DxFLMq_bqvFb",
        "colab": {
          "base_uri": "https://localhost:8080/"
        },
        "outputId": "70d6e909-2abf-47db-a25d-d713f2bd0c06"
      },
      "outputs": [
        {
          "output_type": "stream",
          "name": "stdout",
          "text": [
            "Isi dari Queue setelah Enqueue:  [10, 15, 12]\n",
            "Elemen yang Dequeue:  None\n",
            "Elemen yang terletak di Front:  10\n",
            "Elemen yang terletak di Rear:  12\n",
            "Ukuran dari Queue:  3\n"
          ]
        }
      ],
      "source": [
        "#Implementasi Queue menggunakan list Python\n",
        "class QueueList:\n",
        "  def __init__(self):\n",
        "    self.queue = []\n",
        "  def enqueue(self, item):\n",
        "    self.queue.append(item)\n",
        "  def dequeue(self):\n",
        "    if not self.is_empty:\n",
        "      return self.queue.pop[0]\n",
        "    return None\n",
        "  def front(self):\n",
        "    if not self.is_empty():\n",
        "      return self.queue[0]\n",
        "    else:\n",
        "      None\n",
        "  def rear(self):\n",
        "    if not self.is_empty():\n",
        "      return self.queue[-1]\n",
        "    else:\n",
        "      None\n",
        "  def is_empty(self):\n",
        "    return len(self.queue) == 0\n",
        "  def size(self):\n",
        "    return len(self.queue)\n",
        "\n",
        "#Contoh penggunaan\n",
        "Queue = QueueList()\n",
        "Queue.enqueue(10)\n",
        "Queue.enqueue(15)\n",
        "Queue.enqueue(12)\n",
        "print(\"Isi dari Queue setelah Enqueue: \", Queue.queue)\n",
        "print(\"Elemen yang Dequeue: \", Queue.dequeue())\n",
        "print(\"Elemen yang terletak di Front: \", Queue.front())\n",
        "print(\"Elemen yang terletak di Rear: \", Queue.rear())\n",
        "print(\"Ukuran dari Queue: \", Queue.size())"
      ]
    },
    {
      "cell_type": "code",
      "source": [
        "#Queue berbasis collections.deque\n",
        "from collections import deque\n",
        "\n",
        "class QueueDeque:\n",
        "  def __init__(self):\n",
        "    self.queue = deque()\n",
        "  def enqueue(self, item):\n",
        "    self.queue.append(item)\n",
        "  def dequeue(self):\n",
        "    if not self.is_empty():\n",
        "      return self.queue.popleft()\n",
        "    else:\n",
        "      None\n",
        "  def front(self):\n",
        "    if not self.is_empty():\n",
        "      return self.queue[0]\n",
        "    else:\n",
        "      None\n",
        "  def rear(self):\n",
        "    if not self.is_empty:\n",
        "      return self.queue[-1]\n",
        "    else:\n",
        "      None\n",
        "  def is_empty(self):\n",
        "    return len(self.queue) == 0\n",
        "  def size(self):\n",
        "    return len(self.queue)\n",
        "\n",
        "#Contoh penggunaan\n",
        "queue = QueueDeque()\n",
        "queue.enqueue(10)\n",
        "queue.enqueue(12)\n",
        "queue.enqueue(13)\n",
        "print(\"Queue setelah di enqueue: \", list(queue.queue))\n",
        "print(\"Elemen yang di Dequeue: \", queue.dequeue())\n",
        "print(\"Element yang terletak di Front: \", queue.front())\n",
        "print(\"Element yang terletak di Rear: \", queue.rear())\n",
        "print(\"Size dari queue: \", queue.size())"
      ],
      "metadata": {
        "colab": {
          "base_uri": "https://localhost:8080/"
        },
        "id": "Z8Uy0oqqwC3F",
        "outputId": "6ee03dba-5f05-4ca0-f8b5-9883fca7a53f"
      },
      "execution_count": null,
      "outputs": [
        {
          "output_type": "stream",
          "name": "stdout",
          "text": [
            "Queue setelah di enqueue:  [10, 12, 13]\n",
            "Elemen yang di Dequeue:  10\n",
            "Element yang terletak di Front:  12\n",
            "Element yang terletak di Rear:  None\n",
            "Size dari queue:  2\n"
          ]
        }
      ]
    },
    {
      "cell_type": "code",
      "source": [
        "#Queue dengan modul queue\n",
        "from queue import Queue\n",
        "queue = Queue()\n",
        "\n",
        "queue.put(10)\n",
        "queue.put(5)\n",
        "queue.put(150)\n",
        "\n",
        "print(\"Ukuran queue: \", queue.qsize())\n",
        "print(\"Elemen yang di Deque: \", queue.get())\n",
        "print(\"Ukuran queue setelah di dequeue: \", queue.qsize())"
      ],
      "metadata": {
        "colab": {
          "base_uri": "https://localhost:8080/"
        },
        "id": "alQUs8jF90l-",
        "outputId": "6beae81b-1401-4025-f897-7d1fa8d078cb"
      },
      "execution_count": null,
      "outputs": [
        {
          "output_type": "stream",
          "name": "stdout",
          "text": [
            "Ukuran queue:  3\n",
            "Elemen yang di Deque:  10\n",
            "Ukuran queue setelah di dequeue:  2\n"
          ]
        }
      ]
    },
    {
      "cell_type": "code",
      "source": [
        "#Queue dengan Linked List\n",
        "class Node:\n",
        "  def __init__(self, data):\n",
        "    self.data = data\n",
        "    self.next = None\n",
        "\n",
        "class QueueLinkedList:\n",
        "  def __init__(self):\n",
        "    self.front = self.rear = None\n",
        "  def enqueue(self, data):\n",
        "    new_node = Node(data)\n",
        "    if self.rear is None:\n",
        "      self.front = self.rear = new_node\n",
        "      return\n",
        "    self.rear.next = new_node\n",
        "    self.rear = new_node\n",
        "  def dequeue(self):\n",
        "    if self.front is None:\n",
        "      return None\n",
        "    dequeued_element = self.front.data\n",
        "    self.front = self.front.next\n",
        "    if self.front is None:\n",
        "      self.rear = None\n",
        "    return dequeued_element\n",
        "  def is_empty():\n",
        "    return self.front is None\n",
        "  def front_element(self):\n",
        "    return self.front.data if self.front else None\n",
        "  def rear_element(self):\n",
        "    return self.rear.data if self.rear else None\n",
        "\n",
        "#Contoh penggunaan\n",
        "queue = QueueLinkedList()\n",
        "queue.enqueue(10)\n",
        "queue.enqueue(60)\n",
        "queue.enqueue(12)\n",
        "print(\"Element yang di dequeue: \", queue.dequeue())\n",
        "print(\"Element yang terletak di Front: \", queue.front_element())\n",
        "print(\"Element yang terletak di Rear: \", queue.rear_element())"
      ],
      "metadata": {
        "colab": {
          "base_uri": "https://localhost:8080/"
        },
        "id": "W0Ufx3QlCOBT",
        "outputId": "dd774c6b-4698-420a-a4a0-3ef3685ff71c"
      },
      "execution_count": null,
      "outputs": [
        {
          "output_type": "stream",
          "name": "stdout",
          "text": [
            "Element yang di dequeue:  10\n",
            "Element yang terletak di Front:  60\n",
            "Element yang terletak di Rear:  12\n"
          ]
        }
      ]
    },
    {
      "cell_type": "code",
      "source": [
        "#Latihan 1\n",
        "import heapq\n",
        "class Bioskop:\n",
        "  def __init__(self, kapasitas):\n",
        "    self.queue = []\n",
        "    self.kapasitas = kapasitas\n",
        "  def tiket_prioritas(self, ticket_id):\n",
        "    if \"7\" in ticket_id:\n",
        "      return 0\n",
        "    else:\n",
        "      return 1\n",
        "  def enqueue(self, ticket_id):\n",
        "    if not self.is_full():\n",
        "      heapq.heappush(self.queue, (self.tiket_prioritas(ticket_id), ticket_id))\n",
        "    else:\n",
        "      print(\"Antrean sudah penuh!\")\n",
        "  def dequeue(self):\n",
        "    if not self.is_empty:\n",
        "      return heapq.heappop(self.queue)[1]\n",
        "    return None\n",
        "  def front(self):\n",
        "    if not self.is_empty():\n",
        "      return self.queue[0][1]\n",
        "    else:\n",
        "      None\n",
        "  def rear(self):\n",
        "    if not self.is_empty():\n",
        "      return self.queue[-1][1]\n",
        "    else:\n",
        "      None\n",
        "  def is_empty(self):\n",
        "    return len(self.queue) == 0\n",
        "  def is_full(self):\n",
        "    return len(self.queue) == 10\n",
        "  def size(self):\n",
        "    return len(self.queue)\n",
        "\n",
        "#Contoh penggunaan\n",
        "Queue = Bioskop(10)\n",
        "Queue.enqueue(\"MA_33\")\n",
        "Queue.enqueue(\"MA_34\")\n",
        "Queue.enqueue(\"MA_35\")\n",
        "Queue.enqueue(\"MA_36\")\n",
        "Queue.enqueue(\"MA_37\")\n",
        "Queue.enqueue(\"MA_38\")\n",
        "Queue.enqueue(\"MA_39\")\n",
        "Queue.enqueue(\"MA_40\")\n",
        "Queue.enqueue(\"MA_41\")\n",
        "Queue.enqueue(\"MA_42\")\n",
        "Queue.enqueue(\"MA_43\")\n",
        "\n",
        "\n",
        "print(\"Jumlah antrian tiket bioskop (ID TIKET):\")\n",
        "temp_queue = sorted(Queue.queue) #Akan mengurutkan queue sesuai prioritas\n",
        "for prioritas, q in temp_queue:\n",
        "  print(q)\n",
        "print(\"\\nAntrian pertama yang dilayani (ID TIKET):\", Queue.dequeue())\n",
        "print(\"Antrean paling depan:\", Queue.front())\n",
        "print(\"Antrean paling belakang:\", Queue.rear())\n",
        "print(\"Panjang antrean:\", Queue.size())\n"
      ],
      "metadata": {
        "colab": {
          "base_uri": "https://localhost:8080/"
        },
        "id": "jCjFBNyGAyti",
        "outputId": "892c389c-eef3-4bd2-c128-54273e28504f"
      },
      "execution_count": null,
      "outputs": [
        {
          "output_type": "stream",
          "name": "stdout",
          "text": [
            "Antrean sudah penuh!\n",
            "Jumlah antrian tiket bioskop (ID TIKET):\n",
            "MA_37\n",
            "MA_33\n",
            "MA_34\n",
            "MA_35\n",
            "MA_36\n",
            "MA_38\n",
            "MA_39\n",
            "MA_40\n",
            "MA_41\n",
            "MA_42\n",
            "\n",
            "Antrian pertama yang dilayani (ID TIKET): None\n",
            "Antrean paling depan: MA_37\n",
            "Antrean paling belakang: MA_42\n",
            "Panjang antrean: 10\n"
          ]
        }
      ]
    },
    {
      "cell_type": "code",
      "source": [
        "#Latihan 2\n",
        "class Queue_fotokopi:\n",
        "  def __init__(self):\n",
        "    self.antrian = []\n",
        "    self.fast_track = []\n",
        "  def enqueue(self, id_pesanan, halaman):\n",
        "    if halaman <= 10:\n",
        "      self.fast_track.append((id_pesanan, halaman))\n",
        "    elif halaman > 100:\n",
        "      self.antrian.append((id_pesanan, 100))\n",
        "      self.antrian.append((id_pesanan, halaman - 100))\n",
        "    else:\n",
        "      self.antrian.append((id_pesanan, halaman))\n",
        "  def dequeue(self):\n",
        "    if self.fast_track:\n",
        "      print(f\"Memproses pesanan (prioritas): {self.fast_track.pop(0)}\")\n",
        "    elif self.antrian:\n",
        "      print(f\"Memproses pesanan (reguler): {self.antrian.pop(0)}\")\n",
        "    else:\n",
        "      print(\"Tidak ada pesanan\")\n",
        "  def front(self):\n",
        "    if self.fast_track:\n",
        "      print(f\"Menampilkan pesanan (prioritas): {self.fast_track[0]}\")\n",
        "    elif self.antrian:\n",
        "      print(f\"Menampilkan pesanan (reguler): {self.antrian[0]}\")\n",
        "    else:\n",
        "      print(\"Antrian kosong\")\n",
        "  def rear(self):\n",
        "    if self.antrian:\n",
        "      print(f\"Pesanan yang terakhir masuk: {self.antrian[-1]}\")\n",
        "    else:\n",
        "      print(\"Tidak ada pesanan yang masuk\")\n",
        "  def is_empty(self):\n",
        "    return not self.antrian and not self.fast_track\n",
        "  def size(self):\n",
        "    return len(self.antrian) + len(self.fast_track)\n",
        "\n",
        "#Contoh penggunaan\n",
        "pesanan_kliping = Queue_fotokopi()\n",
        "pesanan_kliping.enqueue(\"MAY_33\", 1)\n",
        "pesanan_kliping.enqueue(\"MAY_34\", 50)\n",
        "pesanan_kliping.enqueue(\"MAY_35\", 23)\n",
        "pesanan_kliping.enqueue(\"MAY_36\", 5)\n",
        "pesanan_kliping.enqueue(\"MAY_37\", 200)\n",
        "\n",
        "pesanan_kliping.front()\n",
        "pesanan_kliping.rear()\n",
        "\n",
        "pesanan_kliping.dequeue()\n",
        "pesanan_kliping.dequeue()\n",
        "pesanan_kliping.dequeue()\n",
        "pesanan_kliping.dequeue()\n",
        "pesanan_kliping.dequeue()\n",
        "\n",
        "print(f\"Panjang antrian: {pesanan_kliping.size()}\")\n",
        "print(f\"Memeriksa Antrian (True(Kosong)/False(Ada)): {pesanan_kliping.is_empty()}\")\n",
        "\n"
      ],
      "metadata": {
        "colab": {
          "base_uri": "https://localhost:8080/"
        },
        "id": "9tVvofolxT8_",
        "outputId": "b10d50ab-87cb-4bb7-85fc-bf1ebebd1328"
      },
      "execution_count": 5,
      "outputs": [
        {
          "output_type": "stream",
          "name": "stdout",
          "text": [
            "Menampilkan pesanan (prioritas): ('MAY_33', 1)\n",
            "Pesanan yang terakhir masuk: ('MAY_37', 100)\n",
            "Memproses pesanan (prioritas): ('MAY_33', 1)\n",
            "Memproses pesanan (prioritas): ('MAY_36', 5)\n",
            "Memproses pesanan (reguler): ('MAY_34', 50)\n",
            "Memproses pesanan (reguler): ('MAY_35', 23)\n",
            "Memproses pesanan (reguler): ('MAY_37', 100)\n",
            "Panjang antrian: 1\n",
            "Memeriksa Antrian (True(Kosong)/False(Ada)): False\n"
          ]
        }
      ]
    },
    {
      "cell_type": "code",
      "source": [
        "#Latihan 3\n",
        "class Antrian_parkir:\n",
        "  def __init__(self, kapasitas=15):\n",
        "    self.antrian = []\n",
        "    self.kapasitas = kapasitas\n",
        "    self.parkir_prioritas = []\n",
        "  def enqueue(self, plat_nomor, prioritas=False):\n",
        "    if len(self.antrian) + len(self.parkir_prioritas) < self.kapasitas:\n",
        "      if prioritas:\n",
        "        self.parkir_prioritas.append(plat_nomor)\n",
        "      else:\n",
        "        self.antrian.append(plat_nomor)\n",
        "    else:\n",
        "      print(\"Parkiran sudah penuh.\")\n",
        "  def dequeue(self):\n",
        "    if self.parkir_prioritas:\n",
        "      print(f\"Kendaraan {self.parkir_prioritas.pop(0)} telah keluar dari parkiran.\")\n",
        "    elif self.antrian:\n",
        "      print(f\"Kendaraan {self.antrian.pop(0)} telah keluar dari parkiran.\")\n",
        "    else:\n",
        "      print(\"Tidak ada kendaraan yang keluar.\")\n",
        "  def front(self):\n",
        "    if self.parkir_prioritas:\n",
        "      print(f\"Kendaraan paling depan (prioritas): {self.parkir_prioritas[0]}\")\n",
        "    elif self.antrian:\n",
        "      print(f\"Kendaraan paling depan (reguler): {self.antrian[0]}\")\n",
        "    else:\n",
        "      print(\"Parkiran kosong.\")\n",
        "  def rear(self):\n",
        "    if self.antrian:\n",
        "      print(f\"Kendaraan paling belakang: {self.antrian[-1]}\")\n",
        "    else:\n",
        "      print(\"Tidak ada kendaraan.\")\n",
        "  def is_empty(self):\n",
        "    return not self.antrian and not self.parkir_prioritas\n",
        "  def jumlah_kendaraan(self):\n",
        "    return len(self.antrian) + len(self.parkir_prioritas)\n",
        "\n",
        "#Contoh penggunaan\n",
        "parkiran = Antrian_parkir()\n",
        "parkiran.enqueue(\"BA_33\", prioritas=True)\n",
        "parkiran.enqueue(\"BA_34\", prioritas=False)\n",
        "parkiran.enqueue(\"BA_35\", prioritas=False)\n",
        "parkiran.enqueue(\"BA_36\", prioritas=False)\n",
        "parkiran.enqueue(\"BA_37\", prioritas=True)\n",
        "parkiran.enqueue(\"BA_38\", prioritas=False)\n",
        "parkiran.enqueue(\"BA_39\", prioritas=True)\n",
        "parkiran.enqueue(\"BA_40\", prioritas=False)\n",
        "parkiran.enqueue(\"BA_41\", prioritas=False)\n",
        "parkiran.enqueue(\"BA_42\", prioritas=False)\n",
        "parkiran.enqueue(\"BA_43\", prioritas=False)\n",
        "parkiran.enqueue(\"BA_44\", prioritas=True)\n",
        "parkiran.enqueue(\"BA_45\", prioritas=True)\n",
        "parkiran.enqueue(\"BA_46\", prioritas=False)\n",
        "parkiran.enqueue(\"BA_47\", prioritas=True)\n",
        "parkiran.enqueue(\"BA_48\", prioritas=True)\n",
        "\n",
        "parkiran.dequeue()\n",
        "\n",
        "print(f\"Jumlah kendaraan di parkiran: {parkiran.jumlah_kendaraan()}\")\n",
        "print(f\"Status Parkiran (True(Kosong)/False(Ada)): {parkiran.is_empty()}\")"
      ],
      "metadata": {
        "colab": {
          "base_uri": "https://localhost:8080/"
        },
        "id": "TlB5i1h875lS",
        "outputId": "c823a149-e620-4462-8848-a7d83823580b"
      },
      "execution_count": 11,
      "outputs": [
        {
          "output_type": "stream",
          "name": "stdout",
          "text": [
            "Parkiran sudah penuh.\n",
            "Kendaraan BA_33 telah keluar dari parkiran.\n",
            "Jumlah kendaraan di parkiran: 14\n",
            "Status Parkiran (True(Kosong)/False(Ada)): False\n"
          ]
        }
      ]
    },
    {
      "cell_type": "code",
      "source": [
        "#Latihan 4\n",
        "class Antrian_sertifikat:\n",
        "  def __init__(self):\n",
        "    self.antrian = []\n",
        "    self.mahasiswa_prestasi = []\n",
        "    self.mahasiswa_reguler = []\n",
        "    self.mahasiswa_lomba = []\n",
        "  def enqueue(self, nim_mahasiswa, lomba=False):\n",
        "    if lomba:\n",
        "      self.mahasiswa_lomba.append(nim_mahasiswa)\n",
        "    else:\n",
        "      self.antrian.append(nim_mahasiswa)\n",
        "      if len(self.antrian) > 20:\n",
        "        self.mahasiswa_reguler = self.antrian[:len(self.antrian)//2]\n",
        "        self.mahasiswa_prestasi = self.antrian[len(self.antrian)//2:]\n",
        "        self.antrian = []\n",
        "  def dequeue(self):\n",
        "    if self.mahasiswa_lomba:\n",
        "      print(f\"Mahasiswa {self.mahasiswa_lomba.pop(0)} telah mengambil sertifikat (lomba)\")\n",
        "    elif self.mahasiswa_prestasi:\n",
        "      print(f\"Mahasiswa {self.mahasiswa_prestasi.pop(0)} telah mengambil sertifikat (prestasi).\")\n",
        "    elif self.mahasiswa_reguler:\n",
        "      print(f\"Mahasiswa {self.mahasiswa_reguler.pop(0)} telah mengambil sertifikat (reguler).\")\n",
        "    else:\n",
        "      print(\"Tidak ada mahasiswa yang mengambil sertifikat.\")\n",
        "  def front(self):\n",
        "    if self.mahasiswa_lomba:\n",
        "      print(f\"Sertifikat terdepan (lomba): {self.mahasiswa_lomba[0]}\")\n",
        "    elif self.mahasiswa_prestasi:\n",
        "      print(f\"Sertifikat terdepan (prestasi): {self.mahasiswa_prestasi[0]}\")\n",
        "    elif self.mahasiswa_reguler:\n",
        "      print(f\"Sertifikat terdepan (reguler): {self.mahasiswa_reguler[0]}\")\n",
        "    elif self.antrian:\n",
        "      print(f\"Sertifikat terdepan: {self.antrian[0]}\")\n",
        "    else:\n",
        "      print(\"Tidak ada antrian sertfikat mahasiswa.\")\n",
        "  def rear(self):\n",
        "    if self.antrian:\n",
        "      print(f\"Sertifikat terakhir: {self.antrian[-1]}\")\n",
        "    elif self.mahasiswa_prestasi:\n",
        "      print(f\"Sertifikat terakhir (prestasi): {self.mahasiswa_prestasi[-1]}\")\n",
        "    elif self.mahasiswa_reguler:\n",
        "      print(f\"Sertifikat terakhir (reguler): {self.mahasiswa_reguler[-1]}\")\n",
        "    elif self.mahasiswa_lomba:\n",
        "      print(f\"Sertifikat terakhir (lomba): {self.mahasiswa_lomba[-1]}\")\n",
        "    else:\n",
        "      print(\"Tidak ada sertifikat..\")\n",
        "  def is_empty(self):\n",
        "    return not self.antrian and not self.mahasiswa_prestasi and not self.mahasiswa_reguler and not self.mahasiswa_lomba\n",
        "  def jumlah_antrian(self):\n",
        "    return len(self.antrian) + len(self.mahasiswa_prestasi) + len(self.mahasiswa_reguler) + len(self.mahasiswa_lomba)\n",
        "\n",
        "#Contoh Penggunaan\n",
        "sertifikat = Antrian_sertifikat()\n",
        "sertifikat.enqueue(\"TIF_33\", lomba=True)\n",
        "sertifikat.enqueue(\"TIF_34\", lomba=False)\n",
        "sertifikat.enqueue(\"TIF_35\", lomba=False)\n",
        "sertifikat.enqueue(\"TIF_36\", lomba=True)\n",
        "sertifikat.enqueue(\"TIF_37\", lomba=True)\n",
        "\n",
        "sertifikat.front()\n",
        "sertifikat.rear()\n",
        "\n",
        "sertifikat.dequeue()\n",
        "sertifikat.dequeue()\n",
        "\n",
        "print(f\"Jumlah mahasiswa dalam antrian: {sertifikat.jumlah_antrian()}\")\n",
        "print(f\"Cek Sertifikat (True(Kosong)/False(Ada)): {sertifikat.is_emmpty()}\")"
      ],
      "metadata": {
        "colab": {
          "base_uri": "https://localhost:8080/"
        },
        "id": "sO2ZaHcdEHzQ",
        "outputId": "483b585a-ec63-46e7-b33d-928624bf57a6"
      },
      "execution_count": 15,
      "outputs": [
        {
          "output_type": "stream",
          "name": "stdout",
          "text": [
            "Sertifikat terdepan (lomba): TIF_33\n",
            "Sertifikat terakhir: TIF_35\n",
            "Mahasiswa TIF_33 telah mengambil sertifikat (lomba)\n",
            "Mahasiswa TIF_36 telah mengambil sertifikat (lomba)\n",
            "Jumlah mahasiswa dalam antrian: 3\n",
            "Cek Sertifikat (True(Kosong)/False(Ada)): False\n"
          ]
        }
      ]
    }
  ]
}