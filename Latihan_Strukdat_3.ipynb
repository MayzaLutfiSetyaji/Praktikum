{
  "nbformat": 4,
  "nbformat_minor": 0,
  "metadata": {
    "colab": {
      "provenance": [],
      "authorship_tag": "ABX9TyNoREPi6+0wVWD1nHSdT+sc",
      "include_colab_link": true
    },
    "kernelspec": {
      "name": "python3",
      "display_name": "Python 3"
    },
    "language_info": {
      "name": "python"
    }
  },
  "cells": [
    {
      "cell_type": "markdown",
      "metadata": {
        "id": "view-in-github",
        "colab_type": "text"
      },
      "source": [
        "<a href=\"https://colab.research.google.com/github/MayzaLutfiSetyaji/Praktikum/blob/master/Latihan_Strukdat_3.ipynb\" target=\"_parent\"><img src=\"https://colab.research.google.com/assets/colab-badge.svg\" alt=\"Open In Colab\"/></a>"
      ]
    },
    {
      "cell_type": "code",
      "execution_count": null,
      "metadata": {
        "colab": {
          "base_uri": "https://localhost:8080/"
        },
        "id": "0bpNwzDBsoDx",
        "outputId": "b8b3ae5f-72ce-43b1-826c-a77ae562658d"
      },
      "outputs": [
        {
          "output_type": "stream",
          "name": "stdout",
          "text": [
            "Undo: Menghapus '33 // 7'\n",
            "Undo: Menghapus '33 % 2'\n"
          ]
        }
      ],
      "source": [
        "#Latihan 1\n",
        "#Class untuk menjalankan program undo\n",
        "class kalkulator():\n",
        "  def __init__(self):\n",
        "    self.history = []\n",
        "  def simpan_angka(self, simpan_angka):\n",
        "    self.history.append(simpan_angka)\n",
        "  def undo(self):\n",
        "    if self.history:\n",
        "      return f\"Undo: Menghapus '{self.history.pop()}'\"\n",
        "    return \"Tidak ada yang bisa di-undo\"\n",
        "\n",
        "# Contoh Penggunaan\n",
        "angka = kalkulator()\n",
        "angka.simpan_angka(\"33 + 30\")\n",
        "angka.simpan_angka(\"33 % 2\")\n",
        "angka.simpan_angka(\"33 // 7\")\n",
        "print(angka.undo())\n",
        "print(angka.undo())\n",
        "\n"
      ]
    },
    {
      "cell_type": "code",
      "source": [
        "#Latihan 2\n",
        "from collections import deque\n",
        "class history_aplikasi:\n",
        " def __init__(self):\n",
        "  self.history = deque()\n",
        " def visit(self, fitur):\n",
        "  self.history.append(fitur)\n",
        "  print(f\"Mengunjungi: {fitur}\")\n",
        " def back(self):\n",
        "  if self.history:\n",
        "    print(f\"Kembali ke: {self.history.pop()}\")\n",
        "  else:\n",
        "    print(\"Tidak ada riwayat!\")\n",
        "\n",
        "# Contoh Penggunaan\n",
        "aplikasi = history_aplikasi()\n",
        "aplikasi.visit(\"M33\")\n",
        "aplikasi.visit(\"Edit Profil\")\n",
        "aplikasi.visit(\"Cari Artikel\")\n",
        "aplikasi.back()\n",
        "aplikasi.back()"
      ],
      "metadata": {
        "colab": {
          "base_uri": "https://localhost:8080/"
        },
        "id": "OA_ngji75Koe",
        "outputId": "feaae5cf-5dd0-460c-98e9-bf20e87923f4"
      },
      "execution_count": null,
      "outputs": [
        {
          "output_type": "stream",
          "name": "stdout",
          "text": [
            "Mengunjungi: M33\n",
            "Mengunjungi: Edit Profil\n",
            "Mengunjungi: Cari Artikel\n",
            "Kembali ke: Cari Artikel\n",
            "Kembali ke: Edit Profil\n"
          ]
        }
      ]
    },
    {
      "cell_type": "code",
      "source": [
        "#Latihan 3\n",
        "from queue import LifoQueue\n",
        "class backup_email:\n",
        "  def __init__(self):\n",
        "    self.backups = LifoQueue()\n",
        "  def backup(self, version):\n",
        "    self.backups.put(version)\n",
        "  def latest_backup(self):\n",
        "    if not self.backups.empty():\n",
        "      return f\"Versi terbaru: {self.backups.queue[-1]}\"\n",
        "    return \"Tidak ada cadangan!\"\n",
        "\n",
        "# Contoh Penggunaan\n",
        "backup_system = backup_email()\n",
        "backup_system.backup(\"MA_33\")\n",
        "backup_system.backup(\"Email Perusahaan\")\n",
        "backup_system.backup(\"Email Klien\")\n",
        "print(backup_system.latest_backup())"
      ],
      "metadata": {
        "id": "d9V7FQW-9JKR",
        "colab": {
          "base_uri": "https://localhost:8080/"
        },
        "outputId": "7f6ba3e6-c890-4ab3-8f50-66156900c3a8"
      },
      "execution_count": 1,
      "outputs": [
        {
          "output_type": "stream",
          "name": "stdout",
          "text": [
            "Versi terbaru: Email Klien\n"
          ]
        }
      ]
    },
    {
      "cell_type": "code",
      "source": [
        "#Latihan 4\n",
        "class layanan_tiket_bioskop:\n",
        "  def __init__(self):\n",
        "    self.tickets = []\n",
        "  def tambah_tiket(self, tickets):\n",
        "    self.tickets.append(tickets)\n",
        "  def proses_tiket(self):\n",
        "    if not self.is_empty():\n",
        "      return f\"Memproses tiket: {self.tickets.pop()}\"\n",
        "    return \"Tidak ada tiket yang harus diproses.\"\n",
        "  def is_empty(self):\n",
        "    return len(self.tickets) == 0\n",
        "# Contoh Penggunaan\n",
        "layanan = layanan_tiket_bioskop()\n",
        "layanan.tambah_tiket(\"Tiket Film M_33\")\n",
        "layanan.tambah_tiket(\"Tiket Film 002\")\n",
        "layanan.tambah_tiket(\"Tiket Film 003\")\n",
        "\n",
        "print(layanan.proses_tiket())\n",
        "print(layanan.is_empty())"
      ],
      "metadata": {
        "colab": {
          "base_uri": "https://localhost:8080/"
        },
        "id": "06VwLO16Lmwd",
        "outputId": "f021d5ae-2730-4724-9570-c80ef45ad6aa"
      },
      "execution_count": 3,
      "outputs": [
        {
          "output_type": "stream",
          "name": "stdout",
          "text": [
            "Memproses tiket: Tiket Film 003\n",
            "False\n"
          ]
        }
      ]
    }
  ]
}