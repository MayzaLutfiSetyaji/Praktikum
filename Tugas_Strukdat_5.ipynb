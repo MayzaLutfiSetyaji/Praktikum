{
  "nbformat": 4,
  "nbformat_minor": 0,
  "metadata": {
    "colab": {
      "provenance": [],
      "authorship_tag": "ABX9TyPHnQ/88mleYRsxeNPla553",
      "include_colab_link": true
    },
    "kernelspec": {
      "name": "python3",
      "display_name": "Python 3"
    },
    "language_info": {
      "name": "python"
    }
  },
  "cells": [
    {
      "cell_type": "markdown",
      "metadata": {
        "id": "view-in-github",
        "colab_type": "text"
      },
      "source": [
        "<a href=\"https://colab.research.google.com/github/MayzaLutfiSetyaji/Praktikum/blob/master/Tugas_Strukdat_5.ipynb\" target=\"_parent\"><img src=\"https://colab.research.google.com/assets/colab-badge.svg\" alt=\"Open In Colab\"/></a>"
      ]
    },
    {
      "cell_type": "code",
      "execution_count": 4,
      "metadata": {
        "colab": {
          "base_uri": "https://localhost:8080/"
        },
        "id": "cQUwfoKVQUrp",
        "outputId": "16318740-bf7a-4052-804a-8e1b77452c3e"
      },
      "outputs": [
        {
          "output_type": "stream",
          "name": "stdout",
          "text": [
            "Array:\n",
            "[10, 12, 18, 30, 36, 52, 62, 69, 87, 92, 94, 115, 123, 143, 161, 180, 185, 187, 200, 211, 223, 251, 263, 267, 269, 307, 318, 319, 321, 323, 333, 338, 339, 343, 346, 358, 367, 368, 383, 396, 404, 406, 411, 484, 487, 493, 496, 498, 506, 515, 523, 533, 541, 544, 553, 559, 575, 579, 585, 588, 594, 613, 620, 625, 641, 642, 676, 680, 686, 688, 691, 703, 705, 717, 750, 755, 768, 774, 784, 791, 795, 805, 810, 823, 827, 838, 856, 857, 879, 882, 892, 916, 922, 924, 928, 932, 972, 991, 994, 996]\n",
            "\n",
            "Nilai yang dicari:\n",
            "143\n",
            "\n",
            "Hasil dengan fungsi Linear Search, nilai yang ditemukan berwarna hijau:\n",
            "10, 12, 18, 30, 36, 52, 62, 69, 87, 92, 94, 115, 123, \u001b[92m143\u001b[0m, 161, 180, 185, 187, 200, 211, 223, 251, 263, 267, 269, 307, 318, 319, 321, 323, 333, 338, 339, 343, 346, 358, 367, 368, 383, 396, 404, 406, 411, 484, 487, 493, 496, 498, 506, 515, 523, 533, 541, 544, 553, 559, 575, 579, 585, 588, 594, 613, 620, 625, 641, 642, 676, 680, 686, 688, 691, 703, 705, 717, 750, 755, 768, 774, 784, 791, 795, 805, 810, 823, 827, 838, 856, 857, 879, 882, 892, 916, 922, 924, 928, 932, 972, 991, 994, 996\n",
            "\n",
            "Hasil dengan fungsi Binary Search, nilai yang ditemukan berwarna hijau:\n",
            "10, 12, 18, 30, 36, 52, 62, 69, 87, 92, 94, 115, 123, \u001b[92m143\u001b[0m, 161, 180, 185, 187, 200, 211, 223, 251, 263, 267, 269, 307, 318, 319, 321, 323, 333, 338, 339, 343, 346, 358, 367, 368, 383, 396, 404, 406, 411, 484, 487, 493, 496, 498, 506, 515, 523, 533, 541, 544, 553, 559, 575, 579, 585, 588, 594, 613, 620, 625, 641, 642, 676, 680, 686, 688, 691, 703, 705, 717, 750, 755, 768, 774, 784, 791, 795, 805, 810, 823, 827, 838, 856, 857, 879, 882, 892, 916, 922, 924, 928, 932, 972, 991, 994, 996\n",
            "\n",
            "Hasil dengan fungsi Jump Search, nilai yang ditemukan berwarna hijau:\n",
            "10, 12, 18, 30, 36, 52, 62, 69, 87, 92, 94, 115, 123, \u001b[92m143\u001b[0m, 161, 180, 185, 187, 200, 211, 223, 251, 263, 267, 269, 307, 318, 319, 321, 323, 333, 338, 339, 343, 346, 358, 367, 368, 383, 396, 404, 406, 411, 484, 487, 493, 496, 498, 506, 515, 523, 533, 541, 544, 553, 559, 575, 579, 585, 588, 594, 613, 620, 625, 641, 642, 676, 680, 686, 688, 691, 703, 705, 717, 750, 755, 768, 774, 784, 791, 795, 805, 810, 823, 827, 838, 856, 857, 879, 882, 892, 916, 922, 924, 928, 932, 972, 991, 994, 996\n",
            "\n",
            "+---------------------+--------+---------------------+\n",
            "| Algoritma Pencarian | Indeks | Jumlah Perbandingan |\n",
            "+---------------------+--------+---------------------+\n",
            "|    Linear Search    |   13   |          14         |\n",
            "|    Binary Search    |   13   |          7          |\n",
            "|     Jump Search     |   13   |          5          |\n",
            "+---------------------+--------+---------------------+\n"
          ]
        }
      ],
      "source": [
        "#Latihan 1\n",
        "import math\n",
        "import prettytable\n",
        "import random\n",
        "\n",
        "# Variabel\n",
        "array = sorted(random.sample(range(1, 1000), 100))\n",
        "comparison_table = None\n",
        "test_target = random.choice(array)\n",
        "\n",
        "\n",
        "# Fungsi\n",
        "def linear_search(array_to_search, target_value):\n",
        "  comparisons = 0\n",
        "\n",
        "  for i in range(len(array_to_search)):\n",
        "    comparisons += 1\n",
        "    if array_to_search[i] == target_value:\n",
        "      return i, comparisons\n",
        "\n",
        "  return -1, comparisons\n",
        "\n",
        "def binary_search(array_to_search, target_value):\n",
        "  comparisons = 0\n",
        "  left = 0\n",
        "  right = len(array_to_search) - 1\n",
        "\n",
        "  while left <= right:\n",
        "    comparisons += 1\n",
        "    mid = (left + right) // 2\n",
        "\n",
        "    if array_to_search[mid] == target_value:\n",
        "      return mid, comparisons\n",
        "\n",
        "    if array_to_search[mid] < target_value:\n",
        "      left = mid + 1\n",
        "    else:\n",
        "      right = mid - 1\n",
        "\n",
        "  return -1, comparisons\n",
        "\n",
        "def jump_search(array_to_search, target_value):\n",
        "  comparisons = 0\n",
        "  n = len(array_to_search)\n",
        "  step = int(math.sqrt(n))\n",
        "  prev = 0\n",
        "\n",
        "  while array_to_search[min(step, n) - 1] < target_value:\n",
        "    comparisons += 1\n",
        "    prev = step\n",
        "    step += int(math.sqrt(n))\n",
        "    if prev >= n:\n",
        "      return -1, comparisons\n",
        "\n",
        "  for i in range(prev, min(step, n)):\n",
        "    comparisons += 1\n",
        "    if array_to_search[i] == target_value:\n",
        "      return i, comparisons\n",
        "\n",
        "  return -1, comparisons\n",
        "\n",
        "\n",
        "# Program utama\n",
        "print(f\"Array:\\n{array}\\n\\nNilai yang dicari:\\n{test_target}\\n\")\n",
        "\n",
        "comparison_table = prettytable.PrettyTable([\"Algoritma Pencarian\", \"Indeks\", \"Jumlah Perbandingan\"])\n",
        "\n",
        "for function in [linear_search, binary_search, jump_search]:\n",
        "  index, comparisons = function(array, test_target)\n",
        "  function_name = function.__name__.replace(\"_\", \" \").title()\n",
        "  highlighted_array = []\n",
        "\n",
        "  for i in range(len(array)):\n",
        "    value = str(array[i])\n",
        "\n",
        "    if i == index:\n",
        "      value = f\"\\033[92m{value}\\033[0m\"\n",
        "\n",
        "    highlighted_array.append(value)\n",
        "\n",
        "  comparison_table.add_row([function_name, index, comparisons])\n",
        "  print(f\"Hasil dengan fungsi {function_name}, nilai yang ditemukan berwarna hijau:\\n{', '.join(highlighted_array)}\\n\")\n",
        "\n",
        "\n",
        "print(comparison_table)"
      ]
    }
  ]
}