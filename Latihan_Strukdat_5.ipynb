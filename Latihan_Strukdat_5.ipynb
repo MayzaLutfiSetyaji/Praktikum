{
  "nbformat": 4,
  "nbformat_minor": 0,
  "metadata": {
    "colab": {
      "provenance": [],
      "authorship_tag": "ABX9TyOMCZDQlIcad1TcgtItCDIa",
      "include_colab_link": true
    },
    "kernelspec": {
      "name": "python3",
      "display_name": "Python 3"
    },
    "language_info": {
      "name": "python"
    }
  },
  "cells": [
    {
      "cell_type": "markdown",
      "metadata": {
        "id": "view-in-github",
        "colab_type": "text"
      },
      "source": [
        "<a href=\"https://colab.research.google.com/github/MayzaLutfiSetyaji/Praktikum/blob/master/Latihan_Strukdat_5.ipynb\" target=\"_parent\"><img src=\"https://colab.research.google.com/assets/colab-badge.svg\" alt=\"Open In Colab\"/></a>"
      ]
    },
    {
      "cell_type": "code",
      "execution_count": null,
      "metadata": {
        "colab": {
          "base_uri": "https://localhost:8080/"
        },
        "id": "kZyCf2Q8kWWl",
        "outputId": "57a94251-44ca-43fa-945e-6b687a50c275"
      },
      "outputs": [
        {
          "output_type": "stream",
          "name": "stdout",
          "text": [
            "Masukkan 3 digit terakhir NPM Anda: 033\n",
            "Elemen ditemukan pada indeks 3\n"
          ]
        }
      ],
      "source": [
        "#Linear Search\n",
        "def linear_search(arr, target):\n",
        "  for i in range(len(arr)):\n",
        "    if arr[i] == target:\n",
        "      return i\n",
        "  return -1\n",
        "\n",
        "arr = [12, 45, 23, 33, 76, 69, 11, 17]\n",
        "target = int(input(\"Masukkan 3 digit terakhir NPM Anda: \"))\n",
        "\n",
        "result = linear_search(arr, target)\n",
        "\n",
        "if result != -1:\n",
        "  print(f\"Elemen ditemukan pada indeks {result}\")\n",
        "else:\n",
        "  print(\"Elemen tidak ditemukan\")"
      ]
    },
    {
      "cell_type": "code",
      "source": [
        "#Binary Search\n",
        "def binary_search(arr, target):\n",
        "  low = 0\n",
        "  high = len(arr) - 1\n",
        "\n",
        "  while low <= high:\n",
        "    mid = (low + high) // 2\n",
        "    if arr[mid] == target:\n",
        "      return mid\n",
        "    elif arr[mid] < target:\n",
        "      low = mid + 1\n",
        "    else:\n",
        "      high = mid - 1\n",
        "\n",
        "  return -1\n",
        "\n",
        "arr = [1010, 1202, 1405, 1707, 2006, 2508 ]\n",
        "target = int(input(\"Masukkan tahun lahir Anda (YYYY): \"))\n",
        "\n",
        "result = binary_search(arr, target)\n",
        "\n",
        "if result != -1:\n",
        "  print(f\"Elemen ditemukan pada indeks {result}\")\n",
        "else:\n",
        "  print(\"Elemen tidak ditemukan\")"
      ],
      "metadata": {
        "colab": {
          "base_uri": "https://localhost:8080/"
        },
        "id": "khNdaasyn_TL",
        "outputId": "108c1d7b-d61f-443c-fdeb-0e659299d4c8"
      },
      "execution_count": null,
      "outputs": [
        {
          "output_type": "stream",
          "name": "stdout",
          "text": [
            "Masukkan tanggal lahir Anda (DDMM): 2006\n",
            "Elemen ditemukan pada indeks 4\n"
          ]
        }
      ]
    },
    {
      "cell_type": "code",
      "source": [
        "#Jump Search\n",
        "import math\n",
        "def jump_search(arr, target):\n",
        "  n = len(arr)\n",
        "  step = int(math.sqrt(n))\n",
        "  prev = 0\n",
        "\n",
        "  while arr[min(step, n) - 1] < target:\n",
        "    prev = step\n",
        "    step += int(math.sqrt(n))\n",
        "    if prev >= n:\n",
        "      return -1\n",
        "\n",
        "  for i in range(prev, min(step, n)):\n",
        "    if arr[i] == target:\n",
        "      return i\n",
        "  return -1\n",
        "\n",
        "arr = [\"Hakkan\", \"Assep\", \"Hammam\", \"Rama\", \"Sabil\",\"Yasa\"]\n",
        "target = input(\"Masukkan nama: \")\n",
        "\n",
        "result = jump_search(arr, target)\n",
        "\n",
        "if result != -1:\n",
        "  print(f\"Elemen ditemukan pada indeks {result}\")\n",
        "else:\n",
        "  print(\"Elemen tidak ditemukan\")"
      ],
      "metadata": {
        "id": "pgOvxfWgrxcN",
        "colab": {
          "base_uri": "https://localhost:8080/"
        },
        "outputId": "f3559ff2-3136-4ae3-e77a-6578e3a5371a"
      },
      "execution_count": null,
      "outputs": [
        {
          "output_type": "stream",
          "name": "stdout",
          "text": [
            "Masukkan nama: Hammam\n",
            "Elemen ditemukan pada indeks 2\n"
          ]
        }
      ]
    }
  ]
}