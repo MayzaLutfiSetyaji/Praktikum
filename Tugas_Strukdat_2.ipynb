{
  "nbformat": 4,
  "nbformat_minor": 0,
  "metadata": {
    "colab": {
      "provenance": [],
      "authorship_tag": "ABX9TyMWYwW0wHmb2jomPZ/RrigD",
      "include_colab_link": true
    },
    "kernelspec": {
      "name": "python3",
      "display_name": "Python 3"
    },
    "language_info": {
      "name": "python"
    }
  },
  "cells": [
    {
      "cell_type": "markdown",
      "metadata": {
        "id": "view-in-github",
        "colab_type": "text"
      },
      "source": [
        "<a href=\"https://colab.research.google.com/github/MayzaLutfiSetyaji/Praktikum/blob/master/Tugas_Strukdat_2.ipynb\" target=\"_parent\"><img src=\"https://colab.research.google.com/assets/colab-badge.svg\" alt=\"Open In Colab\"/></a>"
      ]
    },
    {
      "cell_type": "code",
      "execution_count": 3,
      "metadata": {
        "colab": {
          "base_uri": "https://localhost:8080/"
        },
        "id": "KMvn7JApbQWY",
        "outputId": "35a5b28a-6c73-4621-a661-bc06a98e19b5"
      },
      "outputs": [
        {
          "output_type": "stream",
          "name": "stdout",
          "text": [
            "Masukkan nama satpam ke-1: Sigit Rendang\n",
            "Masukkan nama satpam ke-2: Farhan Kebab\n",
            "Masukkan nama satpam ke-3: Gus Akira\n",
            "Masukkan nama satpam ke-4: Pace\n",
            "\n",
            "Jadwal Piket Satpam Selama 2 Minggu:\n",
            "\n",
            "Hari 1: Sigit Rendang\n",
            "Hari 2: Farhan Kebab\n",
            "Hari 3: Gus Akira\n",
            "Hari 4: Pace\n",
            "Hari 5: Sigit Rendang\n",
            "Hari 6: Farhan Kebab\n",
            "Hari 7: Gus Akira\n",
            "Hari 8: Pace\n",
            "Hari 9: Sigit Rendang\n",
            "Hari 10: Farhan Kebab\n",
            "Hari 11: Gus Akira\n",
            "Hari 12: Pace\n",
            "Hari 13: Sigit Rendang\n",
            "Hari 14: Farhan Kebab\n"
          ]
        }
      ],
      "source": [
        "#Tugas\n",
        "class satpam_node:\n",
        "    def __init__(self, name):\n",
        "        self.name = name\n",
        "        self.next = None\n",
        "\n",
        "class jadwal_satpam:\n",
        "    def __init__(self):\n",
        "        self.head = None\n",
        "\n",
        "    def tambah_satpam(self, name):\n",
        "        new_node = satpam_node(name)\n",
        "        if not self.head:\n",
        "            self.head = new_node\n",
        "            self.head.next = self.head\n",
        "        else:\n",
        "            temp = self.head\n",
        "            while temp.next != self.head:\n",
        "                temp = temp.next\n",
        "            temp.next = new_node\n",
        "            new_node.next = self.head\n",
        "\n",
        "    def jadwal_piket(self, hari):\n",
        "        if not self.head:\n",
        "            print(\"Tidak ada satpam di list.\")\n",
        "            return\n",
        "\n",
        "        print(\"\\nJadwal Piket Satpam Selama 2 Minggu:\\n\")\n",
        "        temp = self.head\n",
        "        for hari in range(1, hari + 1):\n",
        "            print(f\"Hari {hari}: {temp.name}\")\n",
        "            temp = temp.next\n",
        "\n",
        "jadwal = jadwal_satpam()\n",
        "\n",
        "for i in range(4):\n",
        "    name = input(f\"Masukkan nama satpam ke-{i+1}: \")\n",
        "    jadwal.tambah_satpam(name)\n",
        "\n",
        "jadwal.jadwal_piket(14)"
      ]
    }
  ]
}