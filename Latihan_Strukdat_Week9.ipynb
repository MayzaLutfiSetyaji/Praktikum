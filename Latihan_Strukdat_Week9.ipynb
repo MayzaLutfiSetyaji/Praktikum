{
  "nbformat": 4,
  "nbformat_minor": 0,
  "metadata": {
    "colab": {
      "provenance": [],
      "authorship_tag": "ABX9TyMQJbeYZb1naUBO3sNs5bVx",
      "include_colab_link": true
    },
    "kernelspec": {
      "name": "python3",
      "display_name": "Python 3"
    },
    "language_info": {
      "name": "python"
    }
  },
  "cells": [
    {
      "cell_type": "markdown",
      "metadata": {
        "id": "view-in-github",
        "colab_type": "text"
      },
      "source": [
        "<a href=\"https://colab.research.google.com/github/MayzaLutfiSetyaji/Praktikum/blob/master/Latihan_Strukdat_Week9.ipynb\" target=\"_parent\"><img src=\"https://colab.research.google.com/assets/colab-badge.svg\" alt=\"Open In Colab\"/></a>"
      ]
    },
    {
      "cell_type": "code",
      "execution_count": null,
      "metadata": {
        "colab": {
          "base_uri": "https://localhost:8080/"
        },
        "id": "UzEenjzsg9-j",
        "outputId": "fdcbc555-dd77-4d57-afb7-88bd1c0f99b3"
      },
      "outputs": [
        {
          "output_type": "stream",
          "name": "stdout",
          "text": [
            "Nilai untuk \"apel\": 100\n",
            "Nilai untuk \"pisang\": 200\n"
          ]
        }
      ],
      "source": [
        "#Latihan 1\n",
        "#Implementasi Hash Table Sederhana\n",
        "class SimpleHashTable:\n",
        "  def __init__(self, size):\n",
        "    self.size = size\n",
        "    self.table = [None] * size\n",
        "\n",
        "  def hash_function(self, key):\n",
        "    return hash(key) % self.size\n",
        "\n",
        "  def insert(self, key, value):\n",
        "    index = self.hash_function(key)\n",
        "    self.table[index] = value\n",
        "\n",
        "  def search(self, key):\n",
        "    index = self.hash_function(key)\n",
        "    return self.table[index]\n",
        "\n",
        "#Contoh penggunaan\n",
        "ht = SimpleHashTable(10)\n",
        "ht.insert(\"apel\", 100)\n",
        "ht.insert(\"pisang\", 200)\n",
        "\n",
        "print(\"Nilai untuk \\\"apel\\\":\", ht.search(\"apel\"))\n",
        "print(\"Nilai untuk \\\"pisang\\\":\", ht.search(\"pisang\"))"
      ]
    },
    {
      "cell_type": "code",
      "source": [
        "#Latihan 2\n",
        "#Penanganan Collision dengan Linear Probing\n",
        "class LinearProbingHashTable:\n",
        "  def __init__ (self, size):\n",
        "    self.size = size\n",
        "    self.table = [None] * size\n",
        "\n",
        "  def hash_function (self, key):\n",
        "    return hash (key) % self.size\n",
        "\n",
        "  def insert (self, key, value):\n",
        "    index = self.hash_function (key)\n",
        "    original_index = index\n",
        "\n",
        "    while self.table[index] is not None:\n",
        "      if self.table[index] [0] == key:\n",
        "        break\n",
        "      index = (index + 1) % self.size\n",
        "      if index == original_index:\n",
        "        raise Exception(\"Hash table penuh\")\n",
        "\n",
        "    self.table[index] = (key, value)\n",
        "\n",
        "  def search(self, key):\n",
        "    index = self.hash_function (key)\n",
        "    original_index = index\n",
        "\n",
        "    while self.table [index] is not None:\n",
        "      if self.table[index] [0] == key:\n",
        "        return self.table [index] [1]\n",
        "      index = (index + 1) % self.size\n",
        "      if index == original_index:\n",
        "        break\n",
        "    return None\n",
        "\n",
        "#Contoh penggunaan\n",
        "ht = LinearProbingHashTable(5)\n",
        "ht.insert (\"apel\", 100)\n",
        "ht.insert(\"pisang\", 200)\n",
        "ht.insert(\"melon\", 300)\n",
        "\n",
        "print(\"Nilai untuk \\\"apel\\\":\", ht.search(\"apel\"))\n",
        "print(\"Nilai untuk \\\"melon\\\":\", ht.search(\"melon\"))"
      ],
      "metadata": {
        "id": "JCrUGBYGjBcz",
        "colab": {
          "base_uri": "https://localhost:8080/"
        },
        "outputId": "33d1814d-f91a-41f8-d6ec-5bfe7e99034b"
      },
      "execution_count": null,
      "outputs": [
        {
          "output_type": "stream",
          "name": "stdout",
          "text": [
            "Nilai untuk \"apel\": 100\n",
            "Nilai untuk \"melon\": 300\n"
          ]
        }
      ]
    },
    {
      "cell_type": "code",
      "source": [
        "#Latihan 3\n",
        "#Penanganan Collision dengan Chaining\n",
        "class ChainingHashTable:\n",
        "  def __init__(self, size):\n",
        "    self.size = size\n",
        "    self.table = [[] for _ in range(size)]\n",
        "\n",
        "  def hash_function(self, key):\n",
        "    return hash(key) % self.size\n",
        "\n",
        "  def insert(self, key, value):\n",
        "    index = self.hash_function(key)\n",
        "    for i, (k, v) in enumerate(self.table[index]):\n",
        "      if k == key:\n",
        "        self.table[index][i] = (key, value)\n",
        "        return\n",
        "    self.table[index].append((key, value))\n",
        "\n",
        "  def search(self, key):\n",
        "    index = self.hash_function(key)\n",
        "    for k, v in self.table[index]:\n",
        "      if k == key:\n",
        "        return v\n",
        "    return None\n",
        "\n",
        "#Contoh Penggunaan\n",
        "ht = ChainingHashTable(5)\n",
        "ht.insert(\"apel\", 100)\n",
        "ht.insert(\"pisang\", 200)\n",
        "ht.insert(\"melon\", 300)\n",
        "\n",
        "print(\"Nilai untuk \\\"apel\\\":\", ht.search(\"apel\"))\n",
        "print(\"Milai untuk \\\"melon\\\":\", ht.search(\"melon\"))"
      ],
      "metadata": {
        "colab": {
          "base_uri": "https://localhost:8080/"
        },
        "id": "pB9ljLlDzlBd",
        "outputId": "f275c16d-52aa-4d41-bac0-1c8632dae366"
      },
      "execution_count": null,
      "outputs": [
        {
          "output_type": "stream",
          "name": "stdout",
          "text": [
            "Nilai untuk \"apel\": 100\n",
            "Milai untuk \"melon\": 300\n"
          ]
        }
      ]
    }
  ]
}