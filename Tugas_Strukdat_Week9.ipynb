{
  "nbformat": 4,
  "nbformat_minor": 0,
  "metadata": {
    "colab": {
      "provenance": [],
      "authorship_tag": "ABX9TyPAHYx8F4MWV8jxoMOnHuih",
      "include_colab_link": true
    },
    "kernelspec": {
      "name": "python3",
      "display_name": "Python 3"
    },
    "language_info": {
      "name": "python"
    }
  },
  "cells": [
    {
      "cell_type": "markdown",
      "metadata": {
        "id": "view-in-github",
        "colab_type": "text"
      },
      "source": [
        "<a href=\"https://colab.research.google.com/github/MayzaLutfiSetyaji/Praktikum/blob/master/Tugas_Strukdat_Week9.ipynb\" target=\"_parent\"><img src=\"https://colab.research.google.com/assets/colab-badge.svg\" alt=\"Open In Colab\"/></a>"
      ]
    },
    {
      "cell_type": "code",
      "source": [
        "#Tugas 1\n",
        "class LinProb:\n",
        "  def __init__ (self, size):\n",
        "    self.size = size\n",
        "    self.table = [None] * size\n",
        "\n",
        "  def hash_function (self, key):\n",
        "    return hash (key) % self.size\n",
        "\n",
        "  def insert (self, key, value):\n",
        "    index = self.hash_function (key)\n",
        "    original_index = index\n",
        "\n",
        "    while self.table[index] is not None:\n",
        "      if self.table[index] [0] == key:\n",
        "        break\n",
        "      index = (index + 1) % self.size\n",
        "      if index == original_index:\n",
        "        raise Exception(\"Hash table penuh\")\n",
        "\n",
        "    self.table[index] = (key, value)\n",
        "\n",
        "  def search(self, key):\n",
        "    index = self.hash_function (key)\n",
        "    original_index = index\n",
        "\n",
        "    while self.table [index] is not None:\n",
        "      if self.table[index] [0] == key:\n",
        "        return self.table [index] [1]\n",
        "      index = (index + 1) % self.size\n",
        "      if index == original_index:\n",
        "        break\n",
        "    return None\n",
        "\n",
        "  def show(self):\n",
        "    return self.table\n",
        "\n",
        "#Contoh penggunaan\n",
        "ht = LinProb(5)\n",
        "ht.insert (\"A\", 10)\n",
        "ht.insert(\"B\", 20)\n",
        "ht.insert(\"C\", 30)\n",
        "ht.insert(\"D\", 40)\n",
        "ht.insert(\"E\", 50)\n",
        "print(5 * \"=\", \"Isi dari array table\", 5 * \"=\")\n",
        "print(ht.show())\n",
        "print()\n",
        "print(5 * \"=\", \"Key beserta value-nya \", 5 * \"=\")\n",
        "print(\"Nilai untuk \\\"A\\\":\", ht.search(\"A\"))\n",
        "print(\"Nilai untuk \\\"B\\\":\", ht.search(\"B\"))\n",
        "print(\"Nilai untuk \\\"C\\\":\", ht.search(\"C\"))\n",
        "print(\"Nilai untuk \\\"D\\\":\", ht.search(\"D\"))\n",
        "print(\"Nilai untuk \\\"E\\\":\", ht.search(\"E\"))\n",
        "print()\n",
        "print(5 * \"=\", \"Daftar nilai hash \", 5 * \"=\")\n",
        "check_hash_value = [\"A\", \"B\", \"C\", \"D\", \"E\"]\n",
        "for i in check_hash_value:\n",
        "  print(f\"Nilai Hash {i} :\", hash(i) % 5)"
      ],
      "metadata": {
        "colab": {
          "base_uri": "https://localhost:8080/"
        },
        "id": "WYZl_TIwf3gs",
        "outputId": "32379db6-a302-4947-bd05-2b00eeb265d9"
      },
      "execution_count": 2,
      "outputs": [
        {
          "output_type": "stream",
          "name": "stdout",
          "text": [
            "===== Isi dari array table =====\n",
            "[('D', 40), ('C', 30), ('E', 50), ('B', 20), ('A', 10)]\n",
            "\n",
            "===== Key beserta value-nya  =====\n",
            "Nilai untuk \"A\": 10\n",
            "Nilai untuk \"B\": 20\n",
            "Nilai untuk \"C\": 30\n",
            "Nilai untuk \"D\": 40\n",
            "Nilai untuk \"E\": 50\n",
            "\n",
            "===== Daftar nilai hash  =====\n",
            "Nilai Hash A : 4\n",
            "Nilai Hash B : 3\n",
            "Nilai Hash C : 1\n",
            "Nilai Hash D : 4\n",
            "Nilai Hash E : 2\n"
          ]
        }
      ]
    },
    {
      "cell_type": "code",
      "execution_count": 1,
      "metadata": {
        "id": "dBJ8I0OJBOyy",
        "colab": {
          "base_uri": "https://localhost:8080/"
        },
        "outputId": "2dbb868e-4cb7-450c-c623-bfedd8232892"
      },
      "outputs": [
        {
          "output_type": "stream",
          "name": "stdout",
          "text": [
            "===== Isi dari array table =====\n",
            "[[('lemon', 300), ('pisang', 400)], [('apel', 100), ('melon', 200)], []]\n",
            "\n",
            "===== Daftar nilai hash =====\n",
            "Nilai Hash apel : 1\n",
            "Nilai Hash melon : 1\n",
            "Nilai Hash lemon : 0\n",
            "Nilai Hash pisang : 0\n"
          ]
        }
      ],
      "source": [
        "#Tugas 2\n",
        "class Chaining:\n",
        "  def __init__(self, size):\n",
        "    self.size = size\n",
        "    self.table = [[] for _ in range(size)]\n",
        "\n",
        "  def hash_function(self, key):\n",
        "    return hash(key) % self.size\n",
        "\n",
        "  def insert(self, key, value):\n",
        "    index = self.hash_function(key)\n",
        "    for i, (k, v) in enumerate(self.table[index]):\n",
        "      if k == key:\n",
        "        self.table[index][i] = (key, value)\n",
        "        return\n",
        "    self.table[index].append((key, value))\n",
        "\n",
        "  def search(self, key):\n",
        "    index = self.hash_function(key)\n",
        "    for k, v in self.table[index]:\n",
        "      if k == key:\n",
        "        return v\n",
        "    return None\n",
        "\n",
        "  def show(self):\n",
        "    return self.table\n",
        "\n",
        "#Contoh Penggunaan\n",
        "ht = Chaining(3)\n",
        "ht.insert('apel', 100)\n",
        "ht.insert('melon', 200)\n",
        "ht.insert('lemon', 300)\n",
        "ht.insert('pisang', 400)\n",
        "print(5 * \"=\", \"Isi dari array table\", 5 * \"=\")\n",
        "print(ht.show())\n",
        "\n",
        "print(\"\\n===== Daftar nilai hash =====\")\n",
        "check_hash_value = ['apel', 'melon', 'lemon', 'pisang']\n",
        "for i in check_hash_value:\n",
        "  print(f\"Nilai Hash {i} :\", hash(i) % 3)"
      ]
    }
  ]
}