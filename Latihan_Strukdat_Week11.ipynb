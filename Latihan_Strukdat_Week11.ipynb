{
  "nbformat": 4,
  "nbformat_minor": 0,
  "metadata": {
    "colab": {
      "provenance": [],
      "authorship_tag": "ABX9TyMI8UF9wUDZP79a96ckCRvg",
      "include_colab_link": true
    },
    "kernelspec": {
      "name": "python3",
      "display_name": "Python 3"
    },
    "language_info": {
      "name": "python"
    }
  },
  "cells": [
    {
      "cell_type": "markdown",
      "metadata": {
        "id": "view-in-github",
        "colab_type": "text"
      },
      "source": [
        "<a href=\"https://colab.research.google.com/github/MayzaLutfiSetyaji/Praktikum/blob/master/Latihan_Strukdat_Week11.ipynb\" target=\"_parent\"><img src=\"https://colab.research.google.com/assets/colab-badge.svg\" alt=\"Open In Colab\"/></a>"
      ]
    },
    {
      "cell_type": "code",
      "execution_count": null,
      "metadata": {
        "colab": {
          "base_uri": "https://localhost:8080/"
        },
        "id": "H1yHhvmO69mh",
        "outputId": "1e039e7e-0b67-4200-fce3-aec0ae8db228"
      },
      "outputs": [
        {
          "output_type": "stream",
          "name": "stdout",
          "text": [
            "Koin yang digunakan: [25, 25, 5, 1, 1]\n"
          ]
        }
      ],
      "source": [
        "#Latihan 1: Coin Change\n",
        "def coin_change_greedy(amount, coins):\n",
        "  coins.sort(reverse=True)\n",
        "  result = []\n",
        "  for coin in coins:\n",
        "    while amount >= coin:\n",
        "      amount -= coin\n",
        "      result.append(coin)\n",
        "  return result\n",
        "#Contoh penggunaan\n",
        "amount = 57\n",
        "coins = [25, 10, 5, 1]\n",
        "change = coin_change_greedy(amount, coins)\n",
        "print(\"Koin yang digunakan:\", change)"
      ]
    },
    {
      "cell_type": "code",
      "source": [
        "#Latihan 2: Fractional Knapsack\n",
        "def fractional_knapsack(items, capacity):\n",
        "  #items = list of tuples (value, weight)\n",
        "  items = sorted(items, key=lambda x: x[0]/x[1], reverse=True)\n",
        "  total_value = 0.0\n",
        "  for value, weight in items:\n",
        "    if capacity >= weight:\n",
        "      capacity -= weight\n",
        "      total_value += value\n",
        "    else:\n",
        "      total_value += value * (capacity / weight)\n",
        "      break\n",
        "  return total_value\n",
        "\n",
        "#Contoh penggunaan\n",
        "items = [(60, 10), (100, 20), (120, 30)] #(nilai, berat)\n",
        "capacity = 50\n",
        "max_value = fractional_knapsack(items, capacity)\n",
        "print(\"Nilai maksimum yang dapat dibawa:\", max_value)"
      ],
      "metadata": {
        "colab": {
          "base_uri": "https://localhost:8080/"
        },
        "id": "QaJBXAIX8oXz",
        "outputId": "b2fa3cfa-1ee2-4dff-ee53-87aa551a6891"
      },
      "execution_count": null,
      "outputs": [
        {
          "output_type": "stream",
          "name": "stdout",
          "text": [
            "Nilai maksimum yang dapat dibawa: 240.0\n"
          ]
        }
      ]
    },
    {
      "cell_type": "code",
      "source": [
        "#Latihan 3: Minimum Spanning Tree (Prim)\n",
        "import heapq\n",
        "\n",
        "def prim_mst(graph, start):\n",
        "  visited = set()\n",
        "  min_heap = [(0, start)]\n",
        "  total_weight = 0\n",
        "\n",
        "  while min_heap:\n",
        "    weight, node = heapq.heappop(min_heap)\n",
        "    if node in visited:\n",
        "      continue\n",
        "    visited.add(node)\n",
        "    total_weight += weight\n",
        "    for neighbor, edge_weight in graph[node]:\n",
        "      if neighbor not in visited:\n",
        "        heapq.heappush(min_heap, (edge_weight, neighbor))\n",
        "  return total_weight\n",
        "\n",
        "#Representasi graph: adjacency list\n",
        "graph ={\n",
        "    'A': [('B', 2), ('C', 3)],\n",
        "    'B': [('A', 2), ('C', 1), ('D', 1)],\n",
        "    'C': [('A', 3), ('B', 1), ('D', 4)],\n",
        "    'D': [('B', 1), ('C', 4)]\n",
        "}\n",
        "\n",
        "print(\"Total bobot MST (Prim):\", prim_mst(graph, 'A'))"
      ],
      "metadata": {
        "colab": {
          "base_uri": "https://localhost:8080/"
        },
        "id": "l04fHjYm-2vW",
        "outputId": "55ecfe5a-7e73-4d4d-f14b-25aa18023779"
      },
      "execution_count": null,
      "outputs": [
        {
          "output_type": "stream",
          "name": "stdout",
          "text": [
            "Total bobot MST (Prim): 4\n"
          ]
        }
      ]
    },
    {
      "cell_type": "code",
      "source": [
        "#Latihan 3: Minimum Spanning Tree (Kruskal)\n",
        "def kruskal_mst(edges, n_nodes):\n",
        "  parent = {i: i for i in range(n_nodes)}\n",
        "\n",
        "  def find(x):\n",
        "    while parent[x] != x:\n",
        "      x = parent[x]\n",
        "    return x\n",
        "\n",
        "  def union(x, y):\n",
        "    root_x = find(x)\n",
        "    root_y = find(y)\n",
        "    if root_x != root_y:\n",
        "      parent[root_y] = root_x\n",
        "      return True\n",
        "    return False\n",
        "\n",
        "  edges.sort(key=lambda x: x[2])\n",
        "  total_weight = 0\n",
        "  for u, v, weight in edges:\n",
        "    if union(u, v):\n",
        "      total_weight += weight\n",
        "  return total_weight\n",
        "\n",
        "#edges: (node1, node2, weight), nodes are represented by integers\n",
        "edges = [(0, 1, 2), (0, 2, 3), (1, 2, 1), (1, 3, 1), (2, 3, 4)]\n",
        "print(\"Total bobot MST (Kruskal):\", kruskal_mst(edges, 4))"
      ],
      "metadata": {
        "colab": {
          "base_uri": "https://localhost:8080/"
        },
        "id": "TRcX6wQ4BszB",
        "outputId": "2afe1e43-1f78-45e2-b0cd-08684b19493c"
      },
      "execution_count": null,
      "outputs": [
        {
          "output_type": "stream",
          "name": "stdout",
          "text": [
            "Total bobot MST (Kruskal): 4\n"
          ]
        }
      ]
    }
  ]
}