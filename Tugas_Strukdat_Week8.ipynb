{
  "nbformat": 4,
  "nbformat_minor": 0,
  "metadata": {
    "colab": {
      "provenance": [],
      "authorship_tag": "ABX9TyMXuMc42OPILjVrZAVyZFKi",
      "include_colab_link": true
    },
    "kernelspec": {
      "name": "python3",
      "display_name": "Python 3"
    },
    "language_info": {
      "name": "python"
    }
  },
  "cells": [
    {
      "cell_type": "markdown",
      "metadata": {
        "id": "view-in-github",
        "colab_type": "text"
      },
      "source": [
        "<a href=\"https://colab.research.google.com/github/MayzaLutfiSetyaji/Praktikum/blob/master/Tugas_Strukdat_Week8.ipynb\" target=\"_parent\"><img src=\"https://colab.research.google.com/assets/colab-badge.svg\" alt=\"Open In Colab\"/></a>"
      ]
    },
    {
      "cell_type": "code",
      "execution_count": null,
      "metadata": {
        "colab": {
          "base_uri": "https://localhost:8080/"
        },
        "id": "42tGG-MZkias",
        "outputId": "0a94e213-c28d-49fb-836d-85c140a7859c"
      },
      "outputs": [
        {
          "output_type": "stream",
          "name": "stdout",
          "text": [
            "Representasi graph menggunakan adjacency list\n",
            "A ---> ['B', 'C', 'F']\n",
            "B ---> ['A', 'D', 'G']\n",
            "C ---> ['A', 'E']\n",
            "D ---> ['B', 'F']\n",
            "E ---> ['C', 'G']\n",
            "F ---> ['A', 'D']\n",
            "G ---> ['B', 'E']\n"
          ]
        }
      ],
      "source": [
        "#Tugas 1\n",
        "#Membuat Graph tak berarah\n",
        "graph = {\n",
        "    'A': ['B', 'C', 'F'],\n",
        "    'B': ['A', 'D', 'G'],\n",
        "    'C': ['A', 'E'],\n",
        "    'D': ['B', 'F'],\n",
        "    'E': ['C',  'G'],\n",
        "    'F': ['A',  'D'],\n",
        "    'G': ['B',  'E']\n",
        "\n",
        "}\n",
        "#Fungsi untuk menampilkan graph\n",
        "def print_graph(graf):\n",
        "  for simpul in graf:\n",
        "    print(f\"{simpul} ---> {graf[simpul]}\")\n",
        "\n",
        "print(\"Representasi graph menggunakan adjacency list\")\n",
        "print_graph(graph)"
      ]
    },
    {
      "cell_type": "code",
      "source": [
        "#Tugas 2\n",
        "#Menambahkan metode traversal data BFS dan DFS\n",
        "#Mengimport modul deque dari library collection\n",
        "from collections import deque\n",
        "#Fungsi untuk metode BFS\n",
        "def breadth_fs(graph, start):\n",
        "  visited = set()\n",
        "  queue = deque([start])\n",
        "\n",
        "\n",
        "  while queue:\n",
        "    vertex = queue.popleft()\n",
        "    if vertex not in visited:\n",
        "      print(vertex, end= \" \")\n",
        "      visited.add(vertex)\n",
        "      queue.extend([neighbor for neighbor in graph[vertex] if neighbor not in visited])\n",
        "\n",
        "\n",
        "#Fungsi untuk metode DFS\n",
        "def depth_fs(graph, start, visited=None):\n",
        "  if visited is None:\n",
        "    visited = set()\n",
        "\n",
        "  if start not in visited:\n",
        "    print(start, end= \" \")\n",
        "    visited.add(start)\n",
        "    for neighbor in graph[start]:\n",
        "      depth_fs(graph, neighbor, visited)\n",
        "\n",
        "print(\"Graph menggunakan BFS: \")\n",
        "breadth_fs(graph, \"A\")\n",
        "print(\"\\nGraph menggunakan DFS:\")\n",
        "depth_fs(graph, \"A\")\n"
      ],
      "metadata": {
        "colab": {
          "base_uri": "https://localhost:8080/"
        },
        "id": "FvIqVIgNnLxz",
        "outputId": "df23e174-a7d6-4f05-fe44-6a8fde75bed8"
      },
      "execution_count": null,
      "outputs": [
        {
          "output_type": "stream",
          "name": "stdout",
          "text": [
            "Graph menggunakan BFS: \n",
            "A B C F D G E \n",
            "Graph menggunakan DFS:\n",
            "A B D F G E C "
          ]
        }
      ]
    },
    {
      "cell_type": "code",
      "source": [
        "#Tugas 3\n",
        "#Mengimport modul deque dari library collection\n",
        "from collections import deque\n",
        "#Fungsi untuk metode BFS\n",
        "def breadth_fs(graph, start):\n",
        "  visited = set()\n",
        "  queue = deque([start])\n",
        "  telusur = []\n",
        "\n",
        "  while queue:\n",
        "    vertex = queue.popleft()\n",
        "    if vertex not in visited:\n",
        "      visited.add(vertex)\n",
        "      telusur.append(vertex)\n",
        "      queue.extend([neighbor for neighbor in graph[vertex] if neighbor not in visited])\n",
        "  return telusur\n",
        "\n",
        "#Graph\n",
        "graph = {\n",
        "    'A': ['B', 'C', 'F'],\n",
        "    'B': ['A', 'D', 'G'],\n",
        "    'C': ['A', 'E'],\n",
        "    'D': ['B', 'F'],\n",
        "    'E': ['C',  'G'],\n",
        "    'F': ['A',  'D'],\n",
        "    'G': ['B',  'E']\n",
        "\n",
        "}\n",
        "\n",
        "start = \"A\"\n",
        "bfs = breadth_fs(graph, start)\n",
        "print(f\"Urutan graph dimulai dari {start}:\")\n",
        "print(' => '.join(bfs))\n"
      ],
      "metadata": {
        "id": "uklexcmSDF20",
        "colab": {
          "base_uri": "https://localhost:8080/"
        },
        "outputId": "186857fc-3dbc-4b0f-abe3-6e0225bb0498"
      },
      "execution_count": 11,
      "outputs": [
        {
          "output_type": "stream",
          "name": "stdout",
          "text": [
            "Urutan graph dimulai dari A:\n",
            "A => B => C => F => D => G => E\n"
          ]
        }
      ]
    },
    {
      "cell_type": "code",
      "source": [
        "#Tugas 4\n",
        "def find_path(graph, awal, akhir, visited=None, jalur=None):\n",
        "  if visited is None:\n",
        "    visited = set()\n",
        "  if jalur is None:\n",
        "    jalur = [] #set kosong untuk menyimpan jalur\n",
        "\n",
        "  visited.add(awal)\n",
        "  jalur.append(awal)\n",
        "\n",
        "  if awal == akhir:\n",
        "    return jalur #akan mengembalikan 'awal' jika 'awal' dan 'akhir' sama\n",
        "\n",
        "  for i in graph[awal]:\n",
        "    if i not in visited:\n",
        "      hasil = find_path(graph, i, akhir, visited, jalur)\n",
        "      if hasil:\n",
        "        return hasil\n",
        "  return None #jika jalur tidak ada\n",
        "#Graph\n",
        "graph = {\n",
        "    'A': ['B', 'C', 'F'],\n",
        "    'B': ['A', 'D', 'G'],\n",
        "    'C': ['A', 'E'],\n",
        "    'D': ['B', 'F'],\n",
        "    'E': ['C',  'G'],\n",
        "    'F': ['A',  'D'],\n",
        "    'G': ['B',  'E']\n",
        "\n",
        "}\n",
        "\n",
        "\n",
        "\n",
        "awal = 'A'\n",
        "akhir = 'D'\n",
        "rute = find_path(graph, awal, akhir)\n",
        "print(f\"Rute graph dari {awal} hingga {akhir}:\")\n",
        "print(\" => \".join(rute))"
      ],
      "metadata": {
        "colab": {
          "base_uri": "https://localhost:8080/"
        },
        "id": "0tIoUngYXQKW",
        "outputId": "a8962251-2a06-4c44-b555-4aaad9a76eab"
      },
      "execution_count": 17,
      "outputs": [
        {
          "output_type": "stream",
          "name": "stdout",
          "text": [
            "Rute graph dari A hingga D:\n",
            "A => B => D\n"
          ]
        }
      ]
    },
    {
      "cell_type": "code",
      "source": [
        "#Tugas 5\n",
        "#Graph\n",
        "graph = {\n",
        "    'A': ['B', 'C', 'F'],\n",
        "    'B': ['A', 'D', 'G'],\n",
        "    'C': ['A', 'E'],\n",
        "    'D': ['B', 'F'],\n",
        "    'E': ['C',  'G'],\n",
        "    'F': ['A',  'D'],\n",
        "    'G': ['B',  'E']\n",
        "\n",
        "}\n",
        "\n",
        "def is_connected(graph):\n",
        "  if not graph: #akan mengecek apakah graph tidak ada\n",
        "    print(\"Graph tidak ditemukan/ada\")\n",
        "    return False\n",
        "\n",
        "  visited = set()\n",
        "  awal = next(iter(graph)) #mengambil key di dalam dict\n",
        "\n",
        "  def dfs(simpul):\n",
        "    if simpul not in visited:\n",
        "      visited.add(simpul)\n",
        "      for i in graph[simpul]:\n",
        "        dfs(i) #rekursif terhadap graph\n",
        "\n",
        "  dfs(awal)\n",
        "  return len(visited) == len(graph)\n",
        "\n",
        "if is_connected(graph):\n",
        "    print(\"Semua simpul saling terhubung\")\n",
        "else:\n",
        "  print(\"Ada simpul yang belum terhubung\")\n"
      ],
      "metadata": {
        "colab": {
          "base_uri": "https://localhost:8080/"
        },
        "id": "gi4YAWD3BKqH",
        "outputId": "cb55bcee-8f7c-49c2-c1af-31a93f14b816"
      },
      "execution_count": 15,
      "outputs": [
        {
          "output_type": "stream",
          "name": "stdout",
          "text": [
            "Semua simpul saling terhubung\n"
          ]
        }
      ]
    }
  ]
}