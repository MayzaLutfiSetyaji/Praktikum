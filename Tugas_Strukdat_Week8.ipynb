{
  "nbformat": 4,
  "nbformat_minor": 0,
  "metadata": {
    "colab": {
      "provenance": [],
      "authorship_tag": "ABX9TyPDAHKhQVgnZql76hzEl1/R",
      "include_colab_link": true
    },
    "kernelspec": {
      "name": "python3",
      "display_name": "Python 3"
    },
    "language_info": {
      "name": "python"
    }
  },
  "cells": [
    {
      "cell_type": "markdown",
      "metadata": {
        "id": "view-in-github",
        "colab_type": "text"
      },
      "source": [
        "<a href=\"https://colab.research.google.com/github/MayzaLutfiSetyaji/Praktikum/blob/master/Tugas_Strukdat_Week8.ipynb\" target=\"_parent\"><img src=\"https://colab.research.google.com/assets/colab-badge.svg\" alt=\"Open In Colab\"/></a>"
      ]
    },
    {
      "cell_type": "code",
      "execution_count": null,
      "metadata": {
        "colab": {
          "base_uri": "https://localhost:8080/"
        },
        "id": "42tGG-MZkias",
        "outputId": "0a94e213-c28d-49fb-836d-85c140a7859c"
      },
      "outputs": [
        {
          "output_type": "stream",
          "name": "stdout",
          "text": [
            "Representasi graph menggunakan adjacency list\n",
            "A ---> ['B', 'C', 'F']\n",
            "B ---> ['A', 'D', 'G']\n",
            "C ---> ['A', 'E']\n",
            "D ---> ['B', 'F']\n",
            "E ---> ['C', 'G']\n",
            "F ---> ['A', 'D']\n",
            "G ---> ['B', 'E']\n"
          ]
        }
      ],
      "source": [
        "#Tugas 1\n",
        "#Membuat Graph tak berarah\n",
        "graph = {\n",
        "    'A': ['B', 'C', 'F'],\n",
        "    'B': ['A', 'D', 'G'],\n",
        "    'C': ['A', 'E'],\n",
        "    'D': ['B', 'F'],\n",
        "    'E': ['C',  'G'],\n",
        "    'F': ['A',  'D'],\n",
        "    'G': ['B',  'E']\n",
        "\n",
        "}\n",
        "#Fungsi untuk menampilkan graph\n",
        "def print_graph(graf):\n",
        "  for simpul in graf:\n",
        "    print(f\"{simpul} ---> {graf[simpul]}\")\n",
        "\n",
        "print(\"Representasi graph menggunakan adjacency list\")\n",
        "print_graph(graph)"
      ]
    },
    {
      "cell_type": "code",
      "source": [
        "#Tugas 2\n",
        "#Menambahkan metode traversal data BFS dan DFS\n",
        "#Mengimport modul deque dari library collection\n",
        "from collections import deque\n",
        "#Fungsi untuk metode BFS\n",
        "def breadth_fs(graph, start):\n",
        "  visited = set()\n",
        "  queue = deque([start])\n",
        "\n",
        "\n",
        "  while queue:\n",
        "    vertex = queue.popleft()\n",
        "    if vertex not in visited:\n",
        "      print(vertex, end= \" \")\n",
        "      visited.add(vertex)\n",
        "      queue.extend([neighbor for neighbor in graph[vertex] if neighbor not in visited])\n",
        "\n",
        "\n",
        "#Fungsi untuk metode DFS\n",
        "def depth_fs(graph, start, visited=None):\n",
        "  if visited is None:\n",
        "    visited = set()\n",
        "\n",
        "  if start not in visited:\n",
        "    print(start, end= \" \")\n",
        "    visited.add(start)\n",
        "    for neighbor in graph[start]:\n",
        "      depth_fs(graph, neighbor, visited)\n",
        "\n",
        "print(\"Graph menggunakan BFS: \")\n",
        "breadth_fs(graph, \"A\")\n",
        "print(\"\\nGraph menggunakan DFS:\")\n",
        "depth_fs(graph, \"A\")\n"
      ],
      "metadata": {
        "colab": {
          "base_uri": "https://localhost:8080/"
        },
        "id": "FvIqVIgNnLxz",
        "outputId": "df23e174-a7d6-4f05-fe44-6a8fde75bed8"
      },
      "execution_count": null,
      "outputs": [
        {
          "output_type": "stream",
          "name": "stdout",
          "text": [
            "Graph menggunakan BFS: \n",
            "A B C F D G E \n",
            "Graph menggunakan DFS:\n",
            "A B D F G E C "
          ]
        }
      ]
    },
    {
      "cell_type": "code",
      "source": [
        "#Tugas 3\n",
        "#Mengimport modul deque dari library collection\n",
        "from collections import deque\n",
        "#Fungsi untuk metode BFS\n",
        "def breadth_fs(graph, start):\n",
        "  visited = set()\n",
        "  queue = deque([start])\n",
        "  traversal = []\n",
        "\n",
        "  while queue:\n",
        "    vertex = queue.popleft()\n",
        "    if vertex not in visited:\n",
        "      traversal.append(vertex)\n",
        "      visited.add(vertex)\n",
        "      queue.extend([neighbor for neighbor in graph[vertex] if neighbor not in visited])\n",
        "  return traversal\n",
        "\n",
        "print(\"Urutan kunjungan simpul: \")\n",
        "breadth_fs(graph, 'A')"
      ],
      "metadata": {
        "id": "uklexcmSDF20",
        "colab": {
          "base_uri": "https://localhost:8080/"
        },
        "outputId": "c9c0f387-4261-4780-a34d-b3d1b33de5c0"
      },
      "execution_count": null,
      "outputs": [
        {
          "output_type": "stream",
          "name": "stdout",
          "text": [
            "Urutan kunjungan simpul: \n"
          ]
        },
        {
          "output_type": "execute_result",
          "data": {
            "text/plain": [
              "['A', 'B', 'C', 'F', 'D', 'G', 'E']"
            ]
          },
          "metadata": {},
          "execution_count": 31
        }
      ]
    },
    {
      "cell_type": "code",
      "source": [
        "#Tugas 4"
      ],
      "metadata": {
        "colab": {
          "base_uri": "https://localhost:8080/",
          "height": 384
        },
        "id": "5OtMC-Y2EhJ2",
        "outputId": "6b6d422e-ee80-4d44-c6de-d58050aba513"
      },
      "execution_count": null,
      "outputs": [
        {
          "output_type": "stream",
          "name": "stdout",
          "text": [
            "================================================\n",
            "📍Jalur dari simpul A ke C:\n"
          ]
        },
        {
          "output_type": "error",
          "ename": "UnboundLocalError",
          "evalue": "cannot access local variable 'path' where it is not associated with a value",
          "traceback": [
            "\u001b[0;31m---------------------------------------------------------------------------\u001b[0m",
            "\u001b[0;31mUnboundLocalError\u001b[0m                         Traceback (most recent call last)",
            "\u001b[0;32m<ipython-input-34-744e1c5b4a63>\u001b[0m in \u001b[0;36m<cell line: 0>\u001b[0;34m()\u001b[0m\n\u001b[1;32m     23\u001b[0m \u001b[0mprint\u001b[0m\u001b[0;34m(\u001b[0m\u001b[0;34m\"=\"\u001b[0m \u001b[0;34m*\u001b[0m \u001b[0;36m48\u001b[0m\u001b[0;34m)\u001b[0m\u001b[0;34m\u001b[0m\u001b[0;34m\u001b[0m\u001b[0m\n\u001b[1;32m     24\u001b[0m \u001b[0mprint\u001b[0m\u001b[0;34m(\u001b[0m\u001b[0;34m\"📍Jalur dari simpul A ke C:\"\u001b[0m\u001b[0;34m)\u001b[0m\u001b[0;34m\u001b[0m\u001b[0;34m\u001b[0m\u001b[0m\n\u001b[0;32m---> 25\u001b[0;31m \u001b[0mprint\u001b[0m\u001b[0;34m(\u001b[0m\u001b[0mfind_path\u001b[0m\u001b[0;34m(\u001b[0m\u001b[0mgraph\u001b[0m\u001b[0;34m,\u001b[0m \u001b[0;34m'A'\u001b[0m\u001b[0;34m,\u001b[0m \u001b[0;34m'C'\u001b[0m\u001b[0;34m)\u001b[0m\u001b[0;34m)\u001b[0m\u001b[0;34m\u001b[0m\u001b[0;34m\u001b[0m\u001b[0m\n\u001b[0m\u001b[1;32m     26\u001b[0m \u001b[0;34m\u001b[0m\u001b[0m\n\u001b[1;32m     27\u001b[0m \u001b[0mprint\u001b[0m\u001b[0;34m(\u001b[0m\u001b[0;34m\"\\n📍Jalur dari simpul B ke G:\"\u001b[0m\u001b[0;34m)\u001b[0m\u001b[0;34m\u001b[0m\u001b[0;34m\u001b[0m\u001b[0m\n",
            "\u001b[0;32m<ipython-input-34-744e1c5b4a63>\u001b[0m in \u001b[0;36mfind_path\u001b[0;34m(graph, start, end)\u001b[0m\n\u001b[1;32m      5\u001b[0m     \u001b[0;32mreturn\u001b[0m \u001b[0;32mNone\u001b[0m\u001b[0;34m\u001b[0m\u001b[0;34m\u001b[0m\u001b[0m\n\u001b[1;32m      6\u001b[0m \u001b[0;34m\u001b[0m\u001b[0m\n\u001b[0;32m----> 7\u001b[0;31m   \u001b[0;32mif\u001b[0m \u001b[0mpath\u001b[0m \u001b[0;32mis\u001b[0m \u001b[0;32mNone\u001b[0m\u001b[0;34m:\u001b[0m\u001b[0;34m\u001b[0m\u001b[0;34m\u001b[0m\u001b[0m\n\u001b[0m\u001b[1;32m      8\u001b[0m     \u001b[0mpath\u001b[0m \u001b[0;34m=\u001b[0m \u001b[0;34m[\u001b[0m\u001b[0;34m]\u001b[0m\u001b[0;34m\u001b[0m\u001b[0;34m\u001b[0m\u001b[0m\n\u001b[1;32m      9\u001b[0m \u001b[0;34m\u001b[0m\u001b[0m\n",
            "\u001b[0;31mUnboundLocalError\u001b[0m: cannot access local variable 'path' where it is not associated with a value"
          ]
        }
      ]
    }
  ]
}